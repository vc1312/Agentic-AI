{
 "cells": [
  {
   "cell_type": "markdown",
   "id": "0c8a7f1f",
   "metadata": {},
   "source": [
    "# LangChain, LangSmith, Lang Serve\n",
    "\n",
    "- Set up all 3.\n",
    "- Use basic and common componests of LangChain: prompts, models and outputs parser.\n",
    "- Build a simple application with LangChain\n",
    "- Trace your application with LangSmith\n",
    "- Serve your application with LangServe\n",
    "\n",
    "\n",
    "LangChain is like the brain wiring for building powerful AI agents using ChatGPT and other tools.\n",
    "\n",
    "💡 What Can You Build With LangChain?\n",
    "- A custom AI chatbot for your company\n",
    "- A tool that reads PDFs and answers questions\n",
    "- An AI that searches databases and summarizes\n",
    "- A coding assistant or data analyzer\n",
    "- Or even multi-step agents that plan and solve complex tasks step-by-step"
   ]
  },
  {
   "cell_type": "code",
   "execution_count": null,
   "id": "b83f878b",
   "metadata": {
    "vscode": {
     "languageId": "plaintext"
    }
   },
   "outputs": [],
   "source": []
  }
 ],
 "metadata": {
  "language_info": {
   "name": "python"
  }
 },
 "nbformat": 4,
 "nbformat_minor": 5
}
